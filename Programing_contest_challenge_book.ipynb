{
  "nbformat": 4,
  "nbformat_minor": 0,
  "metadata": {
    "colab": {
      "name": "Programing_contest_challenge_book.ipynb",
      "provenance": [],
      "collapsed_sections": []
    },
    "kernelspec": {
      "name": "python3",
      "display_name": "Python 3"
    },
    "language_info": {
      "name": "python"
    }
  },
  "cells": [
    {
      "cell_type": "code",
      "execution_count": 1,
      "metadata": {
        "id": "EfzewcfDHkXp"
      },
      "outputs": [],
      "source": [
        "#2-1\n",
        "def fib(n: int):\n",
        "  if n<=1:\n",
        "    return n\n",
        "  return fib(n-1) + fib(n-2)"
      ]
    },
    {
      "cell_type": "code",
      "source": [
        "fib(3)"
      ],
      "metadata": {
        "colab": {
          "base_uri": "https://localhost:8080/"
        },
        "id": "Bo0xALpxH9Sy",
        "outputId": "65cc0fce-5af3-49a1-9d71-52c97140c8e6"
      },
      "execution_count": 2,
      "outputs": [
        {
          "output_type": "execute_result",
          "data": {
            "text/plain": [
              "2"
            ]
          },
          "metadata": {},
          "execution_count": 2
        }
      ]
    },
    {
      "cell_type": "code",
      "source": [
        "fib(7)"
      ],
      "metadata": {
        "colab": {
          "base_uri": "https://localhost:8080/"
        },
        "id": "q1bSS3w5H_nh",
        "outputId": "9fae7243-7ead-404c-dbc3-75e66662f038"
      },
      "execution_count": 3,
      "outputs": [
        {
          "output_type": "execute_result",
          "data": {
            "text/plain": [
              "13"
            ]
          },
          "metadata": {},
          "execution_count": 3
        }
      ]
    },
    {
      "cell_type": "code",
      "source": [
        "MAX_N = 10**4\n",
        "memo = [0] *MAX_N\n",
        "\n",
        "def fib(n: int):\n",
        "  if n<=1:\n",
        "    return n\n",
        "  if memo[n] == 0:\n",
        "    memo[n] = fib(n-1) + fib(n-2)\n",
        "  return memo[n]\n",
        "\n",
        "\n"
      ],
      "metadata": {
        "id": "1bMzx46EIBow"
      },
      "execution_count": 1,
      "outputs": []
    },
    {
      "cell_type": "code",
      "source": [
        "fib(7)"
      ],
      "metadata": {
        "colab": {
          "base_uri": "https://localhost:8080/"
        },
        "id": "o-fMN9HXI0e-",
        "outputId": "35020e03-1548-401a-d1c3-55e1f9e967fd"
      },
      "execution_count": 2,
      "outputs": [
        {
          "output_type": "execute_result",
          "data": {
            "text/plain": [
              "13"
            ]
          },
          "metadata": {},
          "execution_count": 2
        }
      ]
    },
    {
      "cell_type": "code",
      "source": [
        "fib(13)"
      ],
      "metadata": {
        "colab": {
          "base_uri": "https://localhost:8080/"
        },
        "id": "ZaFMA8LrI2hp",
        "outputId": "2977d6f1-0883-4af5-db36-546749ae5ea8"
      },
      "execution_count": 3,
      "outputs": [
        {
          "output_type": "execute_result",
          "data": {
            "text/plain": [
              "233"
            ]
          },
          "metadata": {},
          "execution_count": 3
        }
      ]
    },
    {
      "cell_type": "markdown",
      "source": [
        "**部分和問題**\n",
        "\n",
        "整数 a1, ... anが与えられます。その中からいくつか選び、その和をちょうどk にすることができるかを判定しなさい\n",
        "\n",
        "1<= n <= 20  \n",
        "-10 ** 8 <= ai <= 10 ** 8  \n",
        "-10 ** 8 <= k <= 10 ** 8  "
      ],
      "metadata": {
        "id": "CPguT8WQJHMJ"
      }
    },
    {
      "cell_type": "code",
      "source": [
        "n = 4\n",
        "a = [1,2,4,7]\n",
        "k = 13\n",
        "\n",
        "def dfs(i: int, sum:int):\n",
        "  if i == n:\n",
        "    return sum == k\n",
        "  if dfs(i+1,sum):\n",
        "    return True\n",
        "  if dfs(i+1, sum + a[i]):\n",
        "    return True\n",
        "  return False\n",
        "\n",
        "if dfs(0,0):\n",
        "  print(\"Yes\")\n",
        "else:\n",
        "  print(\"No\")\n",
        "   "
      ],
      "metadata": {
        "colab": {
          "base_uri": "https://localhost:8080/"
        },
        "id": "8_mGyLnII3rD",
        "outputId": "e4f381f8-dea3-415b-aca5-474abf416bb3"
      },
      "execution_count": 4,
      "outputs": [
        {
          "output_type": "stream",
          "name": "stdout",
          "text": [
            "Yes\n"
          ]
        }
      ]
    },
    {
      "cell_type": "code",
      "source": [
        "k = 15\n",
        "dfs(0,0)"
      ],
      "metadata": {
        "colab": {
          "base_uri": "https://localhost:8080/"
        },
        "id": "terakAplKdZg",
        "outputId": "408a7e0f-a4b5-409b-c738-5d6a1f706914"
      },
      "execution_count": 5,
      "outputs": [
        {
          "output_type": "execute_result",
          "data": {
            "text/plain": [
              "False"
            ]
          },
          "metadata": {},
          "execution_count": 5
        }
      ]
    },
    {
      "cell_type": "markdown",
      "source": [
        "**Lake counting**\n",
        "\n",
        "大きさがNxMの庭があります。そこに雨が降り、水溜りができました。水溜りは８近傍で隣接している場合につながっているとみなします。全部でいくつの水溜りがあるでしょうか？\n",
        "\n",
        "N,M <=100"
      ],
      "metadata": {
        "id": "OVS66sf8Kpj4"
      }
    },
    {
      "cell_type": "code",
      "source": [
        "import sys\n",
        "\n",
        "sys.setrecursionlimit(2000)\n",
        "\n",
        "N=10\n",
        "M=12\n",
        "field = [\n",
        "         [\"W\",\".\" ,\".\" ,\".\" ,\".\",\".\" ,\".\",\".\",\".\",\"W\",\"W\",\".\"],\n",
        "         [\".\" ,\"W\",\"W\",\"W\",\".\",\".\" ,\".\",\".\",\".\",\"W\",\"W\",\"W\"],\n",
        "         [\".\" ,\".\" ,\".\" ,\".\" ,\"W\",\"W\",\".\",\".\",\".\",\"W\",\"W\",\".\"],\n",
        "         [\".\" ,\".\" ,\".\" ,\".\" ,\".\" ,\".\" ,\".\",\".\",\".\",\"W\",\"W\",\".\"],\n",
        "         [\".\" ,\".\" ,\".\" ,\".\" ,\".\" ,\".\" ,\".\",\".\",\".\",\"W\",\".\",\".\"],\n",
        "         [\".\" ,\".\" ,\"W\",\".\" ,\".\" ,\".\" ,\".\",\"\",\".\",\".\",\"W\",\".\",\".\"],\n",
        "         [\".\" ,\"W\",\".\" ,\"W\",\".\" ,\".\" ,\".\",\".\",\".\",\"W\",\"W\",\".\"],\n",
        "         [\"W\",\".\" ,\"W\",\".\" ,\"W\",\".\" ,\".\",\".\",\".\",\".\",\"W\",\".\"],\n",
        "         [\".\" ,\"W\",\".\" ,\"W\",\".\" ,\".\" ,\".\",\".\",\".\",\".\",\"W\",\".\"],\n",
        "         [\".\" ,\".\" ,\"W\",\".\" ,\".\" ,\".\" ,\".\",\".\",\".\",\".\",\"W\",\".\"]\n",
        "\n",
        "]\n",
        "\n",
        "def dfs(x:int,y:int):\n",
        "  field[x][y] = \".\"\n",
        "  for dx in range(-1,2):\n",
        "    for dy in range(-1,2):\n",
        "      nx = x+dx\n",
        "      ny = y+dy\n",
        "      if nx >=0 and nx<N and ny>=0 and ny<M and field[nx][ny]=='W': \n",
        "        dfs(nx,ny)\n",
        "\n",
        "  "
      ],
      "metadata": {
        "id": "OeLLTKI5KlRa"
      },
      "execution_count": 24,
      "outputs": []
    },
    {
      "cell_type": "code",
      "source": [
        "res = 0\n",
        "for i in range(N):\n",
        "  for j in range(M):\n",
        "    if field[i][j] == 'W':\n",
        "      dfs(i,j)\n",
        "      res = res +1\n",
        "\n",
        "print(res)"
      ],
      "metadata": {
        "colab": {
          "base_uri": "https://localhost:8080/"
        },
        "id": "9XAikHgmPOc8",
        "outputId": "011c4b0b-d6f9-4812-c13e-c70ee07f7ae9"
      },
      "execution_count": 25,
      "outputs": [
        {
          "output_type": "stream",
          "name": "stdout",
          "text": [
            "3\n"
          ]
        }
      ]
    },
    {
      "cell_type": "code",
      "source": [
        ""
      ],
      "metadata": {
        "id": "elxcgJfBIvdH"
      },
      "execution_count": null,
      "outputs": []
    },
    {
      "cell_type": "code",
      "source": [
        ""
      ],
      "metadata": {
        "id": "iTc7aQtFItNJ"
      },
      "execution_count": null,
      "outputs": []
    },
    {
      "cell_type": "code",
      "source": [
        ""
      ],
      "metadata": {
        "id": "AOoGOF1sIlH0"
      },
      "execution_count": null,
      "outputs": []
    }
  ]
}